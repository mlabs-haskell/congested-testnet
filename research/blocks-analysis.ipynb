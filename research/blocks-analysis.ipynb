{
 "cells": [
  {
   "cell_type": "raw",
   "id": "43dd6fca-0b6f-4407-a2a4-b81ef83b3b4a",
   "metadata": {},
   "source": [
    "Run nix run .#ssh  to connect with db"
   ]
  },
  {
   "cell_type": "code",
   "execution_count": 2,
   "id": "e3e89a23-8175-44a9-b776-6b0d35c4b513",
   "metadata": {},
   "outputs": [],
   "source": [
    "import pandas as pd\n",
    "import psycopg2 \n",
    "import os\n",
    "import matplotlib.pyplot as plt\n",
    "import numpy as np\n",
    "from tabulate import tabulate\n",
    "pd.set_option('display.max_rows', None)\n",
    "pd.set_option('display.max_columns', None)\n",
    "pd.options.display.max_colwidth = 10000"
   ]
  },
  {
   "cell_type": "code",
   "execution_count": 3,
   "id": "41cc4d10-ac88-4ecc-91dd-26ffcacb2a77",
   "metadata": {},
   "outputs": [],
   "source": [
    "conn = psycopg2.connect(\n",
    "    dbname='cdbsync',\n",
    "    user='cexplorer',\n",
    "    host='/tmp/sql-socket',\n",
    "    port=5432\n",
    ")\n",
    "\n",
    "\n"
   ]
  },
  {
   "cell_type": "code",
   "execution_count": 4,
   "id": "e8e9f569-cfcb-4400-89de-39162eb7659d",
   "metadata": {},
   "outputs": [
    {
     "name": "stderr",
     "output_type": "stream",
     "text": [
      "/tmp/nix-shell.qNMhWM/ipykernel_281466/3676753328.py:18: UserWarning: pandas only supports SQLAlchemy connectable (engine/connection) or database string URI or sqlite3 DBAPI2 connection. Other DBAPI2 objects are not tested. Please consider using SQLAlchemy.\n",
      "  df = pd.read_sql(blocks,conn)\n"
     ]
    }
   ],
   "source": [
    "#transaction' size distribution on 2023-03-31\n",
    "\n",
    "blocks = \"\"\"\n",
    "SELECT\n",
    "    tx.size,\n",
    "    tx.fee,\n",
    "    tx.script_size,\n",
    "    redeemer.unit_mem,\n",
    "    redeemer.unit_steps\n",
    "    \n",
    "FROM block\n",
    "LEFT JOIN tx ON block.id = tx.block_id  \n",
    "LEFT JOIN redeemer ON tx.id = redeemer.tx_id\n",
    "WHERE\n",
    "  DATE(block.time) in ('2023-03-31')\n",
    "\n",
    "\"\"\"\n",
    "df = pd.read_sql(blocks,conn)"
   ]
  },
  {
   "cell_type": "code",
   "execution_count": 13,
   "id": "5380ce73-f2a5-4328-99ce-7771ed259666",
   "metadata": {
    "tags": []
   },
   "outputs": [
    {
     "data": {
      "text/html": [
       "<div>\n",
       "<style scoped>\n",
       "    .dataframe tbody tr th:only-of-type {\n",
       "        vertical-align: middle;\n",
       "    }\n",
       "\n",
       "    .dataframe tbody tr th {\n",
       "        vertical-align: top;\n",
       "    }\n",
       "\n",
       "    .dataframe thead th {\n",
       "        text-align: right;\n",
       "    }\n",
       "</style>\n",
       "<table border=\"1\" class=\"dataframe\">\n",
       "  <thead>\n",
       "    <tr style=\"text-align: right;\">\n",
       "      <th></th>\n",
       "      <th>size</th>\n",
       "      <th>fee</th>\n",
       "      <th>script_size</th>\n",
       "      <th>unit_mem</th>\n",
       "      <th>unit_steps</th>\n",
       "    </tr>\n",
       "  </thead>\n",
       "  <tbody>\n",
       "    <tr>\n",
       "      <th>size</th>\n",
       "      <td>1.000000</td>\n",
       "      <td>0.899811</td>\n",
       "      <td>0.303826</td>\n",
       "      <td>0.026494</td>\n",
       "      <td>0.015482</td>\n",
       "    </tr>\n",
       "    <tr>\n",
       "      <th>fee</th>\n",
       "      <td>0.899811</td>\n",
       "      <td>1.000000</td>\n",
       "      <td>-0.068521</td>\n",
       "      <td>-0.018551</td>\n",
       "      <td>0.008436</td>\n",
       "    </tr>\n",
       "    <tr>\n",
       "      <th>script_size</th>\n",
       "      <td>0.303826</td>\n",
       "      <td>-0.068521</td>\n",
       "      <td>1.000000</td>\n",
       "      <td>0.348842</td>\n",
       "      <td>0.289063</td>\n",
       "    </tr>\n",
       "    <tr>\n",
       "      <th>unit_mem</th>\n",
       "      <td>0.026494</td>\n",
       "      <td>-0.018551</td>\n",
       "      <td>0.348842</td>\n",
       "      <td>1.000000</td>\n",
       "      <td>0.952811</td>\n",
       "    </tr>\n",
       "    <tr>\n",
       "      <th>unit_steps</th>\n",
       "      <td>0.015482</td>\n",
       "      <td>0.008436</td>\n",
       "      <td>0.289063</td>\n",
       "      <td>0.952811</td>\n",
       "      <td>1.000000</td>\n",
       "    </tr>\n",
       "  </tbody>\n",
       "</table>\n",
       "</div>"
      ],
      "text/plain": [
       "                 size       fee  script_size  unit_mem  unit_steps\n",
       "size         1.000000  0.899811     0.303826  0.026494    0.015482\n",
       "fee          0.899811  1.000000    -0.068521 -0.018551    0.008436\n",
       "script_size  0.303826 -0.068521     1.000000  0.348842    0.289063\n",
       "unit_mem     0.026494 -0.018551     0.348842  1.000000    0.952811\n",
       "unit_steps   0.015482  0.008436     0.289063  0.952811    1.000000"
      ]
     },
     "execution_count": 13,
     "metadata": {},
     "output_type": "execute_result"
    }
   ],
   "source": [
    "df_scripts[].corr()"
   ]
  },
  {
   "cell_type": "code",
   "execution_count": 5,
   "id": "50d14824-9614-40ea-b6aa-e30589937a9f",
   "metadata": {},
   "outputs": [],
   "source": [
    "df['log_size'] = np.log(df['size'])"
   ]
  },
  {
   "cell_type": "code",
   "execution_count": 7,
   "id": "a160a870-3866-4081-aba8-b847e16fcafc",
   "metadata": {},
   "outputs": [
    {
     "data": {
      "image/png": "[encoded data removed]",
      "text/plain": [
       "<Figure size 720x432 with 1 Axes>"
      ]
     },
     "metadata": {
      "needs_background": "light"
     },
     "output_type": "display_data"
    }
   ],
   "source": [
    "plt.figure(figsize = (10,6))\n",
    "df['size'].plot(kind='hist',bins=300)\n",
    "plt.title('size distribution')\n",
    "plt.xlabel('tx size')\n",
    "plt.ylabel('count')\n",
    "plt.savefig(\"../docs/imgs/31_03_2023_size_distribution.png\", dpi=300)\n",
    "plt.show()\n"
   ]
  },
  {
   "cell_type": "code",
   "execution_count": 13,
   "id": "4c7c1c19-816a-48ae-9d22-a5c89d8b272a",
   "metadata": {},
   "outputs": [
    {
     "data": {
      "image/png": "[encoded data removed]",
      "text/plain": [
       "<Figure size 720x432 with 1 Axes>"
      ]
     },
     "metadata": {
      "needs_background": "light"
     },
     "output_type": "display_data"
    }
   ],
   "source": [
    "plt.figure(figsize = (10,6))\n",
    "df['unit_mem'].plot(kind='hist',bins=300)\n",
    "plt.title('Memory distribution')\n",
    "plt.xlabel('Memory budget')\n",
    "plt.ylabel('count')\n",
    "plt.savefig(\"../docs/imgs/31_03_2023_mem_distribution.png\", dpi=300)\n",
    "plt.show()\n"
   ]
  },
  {
   "cell_type": "code",
   "execution_count": 48,
   "id": "1bbd2177-8654-4a78-a513-831b76a48ccd",
   "metadata": {},
   "outputs": [
    {
     "data": {
      "image/png": "[encoded data removed]",
      "text/plain": [
       "<Figure size 720x432 with 1 Axes>"
      ]
     },
     "metadata": {
      "needs_background": "light"
     },
     "output_type": "display_data"
    }
   ],
   "source": [
    "plt.figure(figsize = (10,6))\n",
    "df['unit_steps'].plot(kind='hist',bins=300)\n",
    "plt.title('Unit steps distribution')\n",
    "plt.xlabel('Unit steps budget')\n",
    "plt.ylabel('count')\n",
    "plt.savefig(\"../docs/imgs/31_03_2023_cpu_distribution.png\", dpi=300)\n",
    "plt.show()\n"
   ]
  },
  {
   "cell_type": "code",
   "execution_count": 11,
   "id": "df2b1bab-df1b-4dcd-83fb-e48405276597",
   "metadata": {},
   "outputs": [
    {
     "name": "stdout",
     "output_type": "stream",
     "text": [
      "|   Interval/Class |   Frequency |   Relative Frequency |   Cumulative Frequency |\n",
      "|-----------------:|------------:|---------------------:|-----------------------:|\n",
      "|                0 |           0 |          0           |                      0 |\n",
      "|              100 |         345 |          0.00439726  |                    345 |\n",
      "|              200 |       15844 |          0.201942    |                  16189 |\n",
      "|              400 |        7487 |          0.0954269   |                  23676 |\n",
      "|              600 |        4240 |          0.0540417   |                  27916 |\n",
      "|              800 |        5693 |          0.0725611   |                  33609 |\n",
      "|             1000 |       20404 |          0.260063    |                  54013 |\n",
      "|             2000 |        6900 |          0.0879451   |                  60913 |\n",
      "|             3000 |        2004 |          0.0255423   |                  62917 |\n",
      "|             4000 |        1189 |          0.0151546   |                  64106 |\n",
      "|             5000 |        1139 |          0.0145173   |                  65245 |\n",
      "|             6000 |         543 |          0.0069209   |                  65788 |\n",
      "|             7000 |         361 |          0.00460119  |                  66149 |\n",
      "|             8000 |         525 |          0.00669148  |                  66674 |\n",
      "|             9000 |        4774 |          0.0608478   |                  71448 |\n",
      "|            10000 |        3013 |          0.0384027   |                  74461 |\n",
      "|            11000 |         353 |          0.00449922  |                  74814 |\n",
      "|            12000 |          78 |          0.000994162 |                  74892 |\n",
      "|            13000 |         673 |          0.00857784  |                  75565 |\n",
      "|            14000 |        1645 |          0.0209666   |                  77210 |\n",
      "|            15000 |        1241 |          0.0158174   |                  78451 |\n",
      "|            16000 |           7 |          8.92197e-05 |                  78458 |\n",
      "|            17000 |           0 |          0           |                  78458 |\n"
     ]
    }
   ],
   "source": [
    "# Define bins\n",
    "bins = [0, 100, 200, 400, 600, 800, 1000, 2000, 3000, 4000, \n",
    "        5000, 6000, 7000, 8000, 9000, 10000, 11000, 12000, 13000, 14000, 15000, 16000, 17000, 18000,\n",
    "       ]\n",
    "labels = [0, 100, 200, 400, 600, 800, 1000, 2000, 3000, 4000, \n",
    "        5000, 6000, 7000, 8000, 9000, 10000, 11000, 12000, 13000, 14000, 15000, 16000, 17000\n",
    "       ]\n",
    "\n",
    "\n",
    "\n",
    "# Create binned column\n",
    "df['bin'] = pd.cut(df['size'], bins=bins, labels=labels, right=False)\n",
    "\n",
    "# Create frequency table based on bins\n",
    "freq_table = df['bin'].value_counts().reset_index().rename(columns={'index': 'Interval/Class', 'bin': 'Frequency'}).sort_values(by='Interval/Class')\n",
    "freq_table['Relative Frequency'] = freq_table['Frequency'] / freq_table['Frequency'].sum()\n",
    "freq_table['Cumulative Frequency'] = freq_table['Frequency'].cumsum()\n",
    "markdown_table = tabulate(freq_table, headers='keys', tablefmt='pipe', showindex=False)\n",
    "\n",
    "print(markdown_table)\n"
   ]
  },
  {
   "cell_type": "code",
   "execution_count": 41,
   "id": "a75e7706-d9ed-40ed-8b48-d85e6ba05a59",
   "metadata": {},
   "outputs": [
    {
     "name": "stdout",
     "output_type": "stream",
     "text": [
      "|   Interval/Class |   Frequency |   Relative Frequency |   Cumulative Frequency |\n",
      "|-----------------:|------------:|---------------------:|-----------------------:|\n",
      "|          0       |       47241 |          0.600664    |                  47241 |\n",
      "|      10000       |        6543 |          0.0831935   |                  53784 |\n",
      "|     100000       |        1381 |          0.0175593   |                  55165 |\n",
      "|     200000       |        1038 |          0.013198    |                  56203 |\n",
      "|     300000       |        2193 |          0.0278837   |                  58396 |\n",
      "|     400000       |        1301 |          0.0165421   |                  59697 |\n",
      "|     500000       |         241 |          0.00306429  |                  59938 |\n",
      "|     600000       |         406 |          0.00516224  |                  60344 |\n",
      "|     700000       |         311 |          0.00395433  |                  60655 |\n",
      "|     800000       |        4852 |          0.0616926   |                  65507 |\n",
      "|     900000       |        1038 |          0.013198    |                  66545 |\n",
      "|          1e+06   |        3203 |          0.0407258   |                  69748 |\n",
      "|          2e+06   |        5211 |          0.0662572   |                  74959 |\n",
      "|          3e+06   |        2082 |          0.0264724   |                  77041 |\n",
      "|          4e+06   |        1122 |          0.0142661   |                  78163 |\n",
      "|          5e+06   |         174 |          0.00221239  |                  78337 |\n",
      "|          6e+06   |          61 |          0.000775608 |                  78398 |\n",
      "|          7e+06   |         116 |          0.00147493  |                  78514 |\n",
      "|          8e+06   |          68 |          0.000864612 |                  78582 |\n",
      "|          9e+06   |           9 |          0.000114434 |                  78591 |\n",
      "|          1e+07   |          50 |          0.000635744 |                  78641 |\n",
      "|          1.1e+07 |           4 |          5.08595e-05 |                  78645 |\n",
      "|          1.2e+07 |           2 |          2.54298e-05 |                  78647 |\n",
      "|          1.3e+07 |           1 |          1.27149e-05 |                  78648 |\n"
     ]
    }
   ],
   "source": [
    "# Define bins\n",
    "bins = [0,10000] + [i*1e5 for i in range(1,10)] + [i*1e6 for i in range(1,15)]\n",
    "labels = bins[:-1]\n",
    "\n",
    "\n",
    "\n",
    "# Create binned column\n",
    "df['bin'] = pd.cut(df['unit_mem'].fillna(0), bins=bins, labels=labels, right=False)\n",
    "\n",
    "# Create frequency table based on bins\n",
    "freq_table = df['bin'].value_counts().reset_index().rename(columns={'index': 'Interval/Class', 'bin': 'Frequency'}).sort_values(by='Interval/Class')\n",
    "freq_table['Relative Frequency'] = freq_table['Frequency'] / freq_table['Frequency'].sum()\n",
    "freq_table['Cumulative Frequency'] = freq_table['Frequency'].cumsum()\n",
    "markdown_table = tabulate(freq_table, headers='keys', tablefmt='pipe', showindex=False)\n",
    "\n",
    "print(markdown_table)\n"
   ]
  },
  {
   "cell_type": "code",
   "execution_count": 54,
   "id": "8e4d8087-470d-473b-800d-8e4d9915b7d0",
   "metadata": {},
   "outputs": [
    {
     "name": "stdout",
     "output_type": "stream",
     "text": [
      "|   Interval/Class |   Frequency |   Relative Frequency |   Cumulative Frequency |\n",
      "|-----------------:|------------:|---------------------:|-----------------------:|\n",
      "|            0     |       56668 |          0.720499    |                  56668 |\n",
      "|            1e+08 |        2953 |          0.0375456   |                  59621 |\n",
      "|            2e+08 |        6015 |          0.0764771   |                  65636 |\n",
      "|            3e+08 |        1983 |          0.0252126   |                  67619 |\n",
      "|            4e+08 |        1046 |          0.0132993   |                  68665 |\n",
      "|            5e+08 |         851 |          0.01082     |                  69516 |\n",
      "|            6e+08 |         762 |          0.00968837  |                  70278 |\n",
      "|            7e+08 |        1555 |          0.0197709   |                  71833 |\n",
      "|            8e+08 |        3329 |          0.0423262   |                  75162 |\n",
      "|            9e+08 |         563 |          0.00715821  |                  75725 |\n",
      "|            1e+09 |        2620 |          0.0333117   |                  78345 |\n",
      "|            2e+09 |         228 |          0.00289888  |                  78573 |\n",
      "|            3e+09 |          72 |          0.000915437 |                  78645 |\n",
      "|            4e+09 |           3 |          3.81432e-05 |                  78648 |\n",
      "|            5e+09 |           0 |          0           |                  78648 |\n",
      "|            6e+09 |           0 |          0           |                  78648 |\n",
      "|            7e+09 |           0 |          0           |                  78648 |\n",
      "|            8e+09 |           0 |          0           |                  78648 |\n",
      "|            9e+09 |           0 |          0           |                  78648 |\n",
      "|            1e+10 |           3 |          3.81432e-05 |                  78651 |\n"
     ]
    }
   ],
   "source": [
    "# Define bins\n",
    "bins = [0] + [i*1e8 for i in range(1,10)] + [i*1e9 for i in range(1,12)]\n",
    "labels = bins[:-1]\n",
    "\n",
    "\n",
    "\n",
    "# Create binned column\n",
    "df['bin'] = pd.cut(df['unit_steps'].fillna(0), bins=bins, labels=labels, right=False)\n",
    "\n",
    "# Create frequency table based on bins\n",
    "freq_table = df['bin'].value_counts().reset_index().rename(columns={'index': 'Interval/Class', 'bin': 'Frequency'}).sort_values(by='Interval/Class')\n",
    "freq_table['Relative Frequency'] = freq_table['Frequency'] / freq_table['Frequency'].sum()\n",
    "freq_table['Cumulative Frequency'] = freq_table['Frequency'].cumsum()\n",
    "markdown_table = tabulate(freq_table, headers='keys', tablefmt='pipe', showindex=False)\n",
    "\n",
    "print(markdown_table)\n"
   ]
  },
  {
   "cell_type": "code",
   "execution_count": 5,
   "id": "a33016d7-e51e-4142-8c7e-3e56ad54702b",
   "metadata": {
    "tags": []
   },
   "outputs": [],
   "source": [
    "# only scripts\n",
    "df_scripts = df[df.script_size>0]\n"
   ]
  },
  {
   "cell_type": "code",
   "execution_count": 12,
   "id": "5620a623-7ad5-4eba-b1c1-56e7d54f42f2",
   "metadata": {},
   "outputs": [
    {
     "name": "stdout",
     "output_type": "stream",
     "text": [
      "          script_size      unit_mem    unit_steps  count\n",
      "cluster                                                 \n",
      "5         2173.000000  1.400000e+07  1.000000e+10      3\n",
      "4         3238.625781  4.243623e+05  1.614216e+08   3359\n",
      "8         3483.842105  6.872848e+06  3.005361e+09     38\n",
      "2         4674.379310  9.862069e+06  3.903448e+09     29\n",
      "6         5590.389474  4.298808e+06  1.972200e+09     95\n",
      "9         5755.905248  1.532300e+06  4.593735e+08    686\n",
      "0         6311.813234  1.110107e+05  3.367477e+07   5622\n",
      "3         8205.285928  2.813822e+06  8.364440e+08   2679\n",
      "1         8466.241379  3.688543e+06  1.104721e+09    609\n",
      "7        10833.265905  4.425865e+06  1.330972e+09    613\n"
     ]
    },
    {
     "name": "stderr",
     "output_type": "stream",
     "text": [
      "/nix/store/c0cl81klxhkab63fxlprr28k343hjrwa-python3.10-scikit-learn-1.2.1/lib/python3.10/site-packages/sklearn/cluster/_kmeans.py:870: FutureWarning: The default value of `n_init` will change from 10 to 'auto' in 1.4. Set the value of `n_init` explicitly to suppress the warning\n",
      "  warnings.warn(\n",
      "/tmp/nix-shell.qNMhWM/ipykernel_281466/293703297.py:13: SettingWithCopyWarning: \n",
      "A value is trying to be set on a copy of a slice from a DataFrame.\n",
      "Try using .loc[row_indexer,col_indexer] = value instead\n",
      "\n",
      "See the caveats in the documentation: https://pandas.pydata.org/pandas-docs/stable/user_guide/indexing.html#returning-a-view-versus-a-copy\n",
      "  df['cluster'] = kmeans.labels_\n"
     ]
    }
   ],
   "source": [
    "import pandas as pd\n",
    "from sklearn.cluster import KMeans\n",
    "\n",
    "\n",
    "df = df_scripts[['script_size', 'unit_mem', 'unit_steps']]\n",
    "\n",
    "\n",
    "# Number of clusters\n",
    "num_clusters = 10\n",
    "\n",
    "\n",
    "kmeans = KMeans(n_clusters=num_clusters, random_state=0).fit(df)\n",
    "df['cluster'] = kmeans.labels_\n",
    "\n",
    "\n",
    "group_means = df.groupby('cluster').mean()\n",
    "\n",
    "\n",
    "group_counts = df.groupby('cluster').size()\n",
    "\n",
    "\n",
    "result = group_means\n",
    "result['count'] = group_counts\n",
    "\n",
    "print(result.sort_values(by=['script_size']))\n"
   ]
  },
  {
   "cell_type": "code",
   "execution_count": null,
   "id": "e2d841be-9aae-40c3-b777-090c2f7f678b",
   "metadata": {},
   "outputs": [],
   "source": []
  }
 ],
 "metadata": {
  "kernelspec": {
   "display_name": "Python 3 (ipykernel)",
   "language": "python",
   "name": "python3"
  },
  "language_info": {
   "codemirror_mode": {
    "name": "ipython",
    "version": 3
   },
   "file_extension": ".py",
   "mimetype": "text/x-python",
   "name": "python",
   "nbconvert_exporter": "python",
   "pygments_lexer": "ipython3",
   "version": "3.10.12"
  }
 },
 "nbformat": 4,
 "nbformat_minor": 5
}
