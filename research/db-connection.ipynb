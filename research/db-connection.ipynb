{
 "cells": [
  {
   "cell_type": "code",
   "execution_count": null,
   "id": "4ebc5b96-d76a-4b3a-b95b-ddcec048cd61",
   "metadata": {},
   "outputs": [],
   "source": [
    "import pandas as pd\n",
    "import psycopg2 \n",
    "import os\n",
    "pd.set_option('display.max_rows', None)\n",
    "pd.set_option('display.max_columns', None)\n",
    "pd.options.display.max_colwidth = 10000"
   ]
  },
  {
   "cell_type": "markdown",
   "id": "867283ef-18fd-4777-b3a2-eacb0620fb2c",
   "metadata": {},
   "source": [
    "run  `ssh -L 5433:localhost:5432 cardano-cli@node-1.mainnet.ctl-runtime.staging.mlabs.city -N` \n",
    "to establish ssh tunnel\n"
   ]
  },
  {
   "cell_type": "markdown",
   "id": "4931d90b-fb94-41f3-a93c-cc6470121f63",
   "metadata": {},
   "source": [
    "or to forward socket:\n",
    "`mkdir /tmp/sql-socket`\n",
    "`ssh -L /tmp/sql-socket/.s.PGSQL.5432:/run/postgresql/.s.PGSQL.5432 -N cardano-cli@node-1.mainnet.ctl-runtime.staging.mlabs.city`\n",
    "`psql -h /tmp/sql-socket -U cexplorer -d cdbsync`\n"
   ]
  },
  {
   "cell_type": "code",
   "execution_count": null,
   "id": "484bb966-da11-4e7e-a98d-d87ea283b191",
   "metadata": {},
   "outputs": [],
   "source": [
    "conn = psycopg2.connect(\n",
    "    dbname='cdbsync',\n",
    "    user='cexplorer',\n",
    "    host='/tmp/sql-socket',\n",
    "    port=5432\n",
    ")\n",
    "\n",
    "# conn.close()\n"
   ]
  },
  {
   "cell_type": "code",
   "execution_count": null,
   "id": "7f8d2465-78d5-4f3b-9d89-3c4c7763de12",
   "metadata": {},
   "outputs": [],
   "source": [
    "all_tables_and_columns = \"\"\"\n",
    "SELECT\n",
    "    t.tablename AS table_name,\n",
    "    a.attname AS column_name\n",
    "FROM\n",
    "    pg_tables t\n",
    "JOIN\n",
    "    pg_attribute a ON t.tablename = a.attrelid::regclass::text\n",
    "WHERE\n",
    "    t.tableowner = 'cexplorer'\n",
    "    AND a.attnum > 0\n",
    "    AND NOT a.attisdropped\n",
    "ORDER BY\n",
    "    t.tablename,\n",
    "    a.attnum;\n",
    "\"\"\"\n",
    "all_tables = pd.read_sql(all_tables_and_columns,conn)"
   ]
  },
  {
   "cell_type": "code",
   "execution_count": null,
   "id": "decacd05-0af2-433d-9261-dfbf472e5bf6",
   "metadata": {
    "scrolled": true
   },
   "outputs": [],
   "source": [
    "all_tables"
   ]
  },
  {
   "cell_type": "code",
   "execution_count": null,
   "id": "0f57083c-bf00-494d-a512-952ef106d7de",
   "metadata": {},
   "outputs": [],
   "source": [
    "max_time = \"\"\"\n",
    "SELECT max(time)\n",
    "    \n",
    "FROM\n",
    "    block\n",
    ";\n",
    "\"\"\"\n",
    "pd.read_sql(max_time,conn)"
   ]
  },
  {
   "cell_type": "code",
   "execution_count": null,
   "id": "f099598e-e1d2-4de5-8b12-37625b3a5e9b",
   "metadata": {
    "scrolled": true
   },
   "outputs": [],
   "source": [
    "blocks = \"\"\"\n",
    "SELECT\n",
    "    *\n",
    "FROM\n",
    "    block\n",
    "WHERE\n",
    "  DATE(time)='2022-04-25'\n",
    "LIMIT\n",
    "    3;\n",
    "\"\"\"\n",
    "pd.read_sql(blocks,conn)"
   ]
  },
  {
   "cell_type": "code",
   "execution_count": null,
   "id": "d10313b6-0971-45ab-8953-c1a3fbfd9baa",
   "metadata": {},
   "outputs": [],
   "source": [
    "\n",
    "blocks = \"\"\"\n",
    "SELECT\n",
    "    ENCODE(tx.hash, 'hex') AS hash,\n",
    "    block.block_no,\n",
    "    block.time,\n",
    "    block.tx_count,\n",
    "    tx.script_size,\n",
    "    tx.size\n",
    "    \n",
    "FROM block\n",
    "LEFT JOIN tx ON block.id = tx.block_id    \n",
    "WHERE\n",
    "  DATE(block.time)='2022-04-25'\n",
    "\n",
    "\"\"\"\n",
    "df = pd.read_sql(blocks,conn)"
   ]
  },
  {
   "cell_type": "code",
   "execution_count": null,
   "id": "421df0f3-8b70-4b00-8e72-545a06e264ca",
   "metadata": {},
   "outputs": [],
   "source": []
  },
  {
   "cell_type": "code",
   "execution_count": null,
   "id": "ee1a96a1-77bf-4ba5-8166-edb8c2bcdc2c",
   "metadata": {},
   "outputs": [],
   "source": [
    "df.sort_values(by = 'size').head(2)\n"
   ]
  },
  {
   "cell_type": "code",
   "execution_count": null,
   "id": "5b993243-39a3-481c-8a62-2c37ac0cfcc3",
   "metadata": {},
   "outputs": [],
   "source": [
    "df.sort_values(by = 'script_size').head(2)"
   ]
  },
  {
   "cell_type": "code",
   "execution_count": null,
   "id": "58a32597-3e24-49cf-af06-c6486864cf36",
   "metadata": {},
   "outputs": [],
   "source": [
    "df.to_pickle('df.pkl')"
   ]
  },
  {
   "cell_type": "code",
   "execution_count": null,
   "id": "2137cff9-ea57-4eb0-b771-c236c13d4d01",
   "metadata": {},
   "outputs": [],
   "source": [
    "\n",
    "temp = \"\"\"\n",
    "SELECT\n",
    "    ENCODE(tx.hash, 'hex') AS hash,\n",
    "    tx.script_size,\n",
    "    tx.size\n",
    "    \n",
    "    \n",
    "FROM tx\n",
    "WHERE script_size > 12000\n",
    "LIMIT 10;\n",
    "\"\"\"\n",
    "pd.read_sql(temp,conn)"
   ]
  },
  {
   "cell_type": "code",
   "execution_count": null,
   "id": "142afc17-1124-4d13-9bb4-afb742770b61",
   "metadata": {
    "scrolled": true
   },
   "outputs": [],
   "source": [
    "\n",
    "temp = \"\"\"\n",
    "SELECT\n",
    "  ENCODE(hash, 'hex') AS hash,  \n",
    "  -- ENCODE(bytes, 'hex') AS bytes,  \n",
    "  *\n",
    "    \n",
    "FROM script\n",
    "WHERE type='plutusV2'\n",
    "LIMIT 10;\n",
    "\n",
    "\"\"\"\n",
    "pd.read_sql(temp,conn)"
   ]
  },
  {
   "cell_type": "code",
   "execution_count": null,
   "id": "f8a89591-310b-4112-8486-5785bac2a93d",
   "metadata": {},
   "outputs": [],
   "source": [
    "\n",
    "temp = \"\"\"\n",
    "SELECT\n",
    "  distinct type\n",
    "    \n",
    "FROM script\n",
    "\n",
    "\n",
    "\n",
    "\"\"\"\n",
    "pd.read_sql(temp,conn)"
   ]
  },
  {
   "cell_type": "code",
   "execution_count": null,
   "id": "74a77ad9-4424-4ec9-b9aa-c913e89d6217",
   "metadata": {},
   "outputs": [],
   "source": [
    "\n",
    "temp = \"\"\"\n",
    "SELECT\n",
    "  *\n",
    "FROM tx_in\n",
    "WHERE tx_id=54531089\n",
    "\n",
    "\n",
    "\n",
    "\n",
    "\"\"\"\n",
    "pd.read_sql(temp,conn)"
   ]
  },
  {
   "cell_type": "code",
   "execution_count": null,
   "id": "93b717ce-25d6-42e9-a842-42a00d2be1c0",
   "metadata": {},
   "outputs": [],
   "source": []
  }
 ],
 "metadata": {
  "kernelspec": {
   "display_name": "Python 3 (ipykernel)",
   "language": "python",
   "name": "python3"
  },
  "language_info": {
   "codemirror_mode": {
    "name": "ipython",
    "version": 3
   },
   "file_extension": ".py",
   "mimetype": "text/x-python",
   "name": "python",
   "nbconvert_exporter": "python",
   "pygments_lexer": "ipython3",
   "version": "3.10.12"
  }
 },
 "nbformat": 4,
 "nbformat_minor": 5
}
