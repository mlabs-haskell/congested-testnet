{
 "cells": [
  {
   "cell_type": "code",
   "execution_count": null,
   "id": "4ebc5b96-d76a-4b3a-b95b-ddcec048cd61",
   "metadata": {},
   "outputs": [],
   "source": [
    "import pandas as pd\n",
    "import psycopg2 \n",
    "import os"
   ]
  },
  {
   "cell_type": "markdown",
   "id": "867283ef-18fd-4777-b3a2-eacb0620fb2c",
   "metadata": {},
   "source": [
    "run  `ssh -L 5433:localhost:5432 cardano-cli@node-1.mainnet.ctl-runtime.staging.mlabs.city -N` \n",
    "to establish ssh tunnel\n"
   ]
  },
  {
   "cell_type": "markdown",
   "id": "4931d90b-fb94-41f3-a93c-cc6470121f63",
   "metadata": {},
   "source": [
    "or to forward socket:\n",
    "`mkdir /tmp/sql-socket`\n",
    "`ssh -L /tmp/sql-socket/.s.PGSQL.5432:/run/postgresql/.s.PGSQL.5432 -N cardano-cli@node-1.mainnet.ctl-runtime.staging.mlabs.city`\n",
    "`psql -h /tmp/sql-socket -U cexplorer -d cdbsync`\n"
   ]
  },
  {
   "cell_type": "code",
   "execution_count": null,
   "id": "484bb966-da11-4e7e-a98d-d87ea283b191",
   "metadata": {},
   "outputs": [],
   "source": [
    "conn = psycopg2.connect(\n",
    "    dbname='cdbsync',\n",
    "    user='cexplorer',\n",
    "    host='localhost',\n",
    "    port=5433\n",
    ")\n",
    "\n",
    "cursor = conn.cursor()\n",
    "cursor.execute('SELECT version();')\n",
    "print(cursor.fetchone())\n",
    "\n",
    "cursor.close()\n",
    "conn.close()\n"
   ]
  },
  {
   "cell_type": "code",
   "execution_count": null,
   "id": "7f8d2465-78d5-4f3b-9d89-3c4c7763de12",
   "metadata": {},
   "outputs": [],
   "source": []
  }
 ],
 "metadata": {
  "kernelspec": {
   "display_name": "Python 3 (ipykernel)",
   "language": "python",
   "name": "python3"
  },
  "language_info": {
   "codemirror_mode": {
    "name": "ipython",
    "version": 3
   },
   "file_extension": ".py",
   "mimetype": "text/x-python",
   "name": "python",
   "nbconvert_exporter": "python",
   "pygments_lexer": "ipython3",
   "version": "3.10.12"
  }
 },
 "nbformat": 4,
 "nbformat_minor": 5
}
